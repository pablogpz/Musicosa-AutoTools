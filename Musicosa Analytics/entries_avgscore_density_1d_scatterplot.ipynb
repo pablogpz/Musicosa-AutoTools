{
 "cells": [
  {
   "metadata": {},
   "cell_type": "markdown",
   "source": [
    "# Densidad de las entradas en el continuo de notas medias ([```score_min```, ```score_max```])\n",
    "Representado como un 1D scatter plot"
   ],
   "id": "1898547cc9f01bb9"
  },
  {
   "cell_type": "code",
   "id": "initial_id",
   "metadata": {
    "collapsed": true
   },
   "source": [
    "import matplotlib.pyplot as plt\n",
    "from matplotlib.colors import Normalize, LinearSegmentedColormap"
   ],
   "outputs": [],
   "execution_count": null
  },
  {
   "metadata": {},
   "cell_type": "markdown",
   "source": "## Notas medias de las entradas",
   "id": "2087ab77a1c39172"
  },
  {
   "metadata": {},
   "cell_type": "code",
   "source": "entries_avg_scores = []",
   "id": "6194b53d92b89289",
   "outputs": [],
   "execution_count": null
  },
  {
   "metadata": {},
   "cell_type": "markdown",
   "source": "Copiar los valores de la tabla _'stats_entries'_ de Musicosa DB",
   "id": "a16879277ce99ef4"
  },
  {
   "metadata": {},
   "cell_type": "markdown",
   "source": "## Parámetros",
   "id": "adfeb36d1b861f28"
  },
  {
   "metadata": {},
   "cell_type": "code",
   "source": [
    "MIN_SCORE = 0\n",
    "MAX_SCORE = 10\n",
    "PLOT_FIGURE_SIZE = (16, 4)\n",
    "PLOT_LINE_WIDTH = 1.5"
   ],
   "id": "306e915e77557c1c",
   "outputs": [],
   "execution_count": null
  },
  {
   "metadata": {},
   "cell_type": "markdown",
   "source": "## Generación de diagramas",
   "id": "1e1c871ecfb247d6"
  },
  {
   "metadata": {},
   "cell_type": "code",
   "source": [
    "normalized = Normalize(vmin=min(entries_avg_scores), vmax=max(entries_avg_scores))\n",
    "\n",
    "# Create a custom colormap\n",
    "colors = [\"red\", \"green\"]\n",
    "custom_cmap = LinearSegmentedColormap.from_list(\"red_green_gradient\", colors)\n",
    "mapped_colors = custom_cmap(normalized(entries_avg_scores))\n",
    "\n",
    "# Create 1D scatter plot from MIN_SCORE to MAX_SCORE\n",
    "plt.figure(figsize=PLOT_FIGURE_SIZE)\n",
    "for x, color in zip(entries_avg_scores, mapped_colors):\n",
    "    plt.vlines(x, ymin=0, ymax=1, colors=color, linewidth=PLOT_LINE_WIDTH)\n",
    "plt.ylim(0, 1)\n",
    "\n",
    "plt.xticks([MIN_SCORE, min(entries_avg_scores), max(entries_avg_scores), MAX_SCORE])\n",
    "plt.yticks([])\n",
    "\n",
    "plt.show()"
   ],
   "id": "62c47fd20abaa0e4",
   "outputs": [],
   "execution_count": null
  },
  {
   "metadata": {},
   "cell_type": "code",
   "source": [
    "# Create 1D scatter plot from 'min(entries_avg_score)' to 'max(entries_avg_score)'\n",
    "plt.figure(figsize=PLOT_FIGURE_SIZE)\n",
    "for x, color in zip(entries_avg_scores, mapped_colors):\n",
    "    plt.vlines(x, ymin=0, ymax=1, colors=color, linewidth=PLOT_LINE_WIDTH)\n",
    "plt.ylim(0, 1)\n",
    "\n",
    "plt.xticks([min(entries_avg_scores), max(entries_avg_scores)])\n",
    "plt.yticks([])\n",
    "\n",
    "plt.show()"
   ],
   "id": "c31e318ada992d27",
   "outputs": [],
   "execution_count": null
  }
 ],
 "metadata": {
  "kernelspec": {
   "display_name": "Python 3",
   "language": "python",
   "name": "python3"
  },
  "language_info": {
   "codemirror_mode": {
    "name": "ipython",
    "version": 2
   },
   "file_extension": ".py",
   "mimetype": "text/x-python",
   "name": "python",
   "nbconvert_exporter": "python",
   "pygments_lexer": "ipython2",
   "version": "2.7.6"
  }
 },
 "nbformat": 4,
 "nbformat_minor": 5
}
